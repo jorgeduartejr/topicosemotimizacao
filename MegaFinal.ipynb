{
  "cells": [
    {
      "cell_type": "code",
      "execution_count": 7,
      "metadata": {
        "trusted": true
      },
      "outputs": [
        {
          "name": "stdout",
          "output_type": "stream",
          "text": [
            "Coordenadas dos vértices:\n",
            "[[2 7]\n",
            " [6 2]\n",
            " [4 6]\n",
            " [6 3]\n",
            " [5 0]\n",
            " [8 7]]\n",
            "\n",
            "Matriz de adjacência:\n",
            "[[0. 1. 0. 0. 1. 0.]\n",
            " [1. 0. 0. 1. 1. 1.]\n",
            " [0. 0. 0. 1. 1. 0.]\n",
            " [0. 1. 1. 0. 0. 0.]\n",
            " [1. 1. 1. 0. 0. 1.]\n",
            " [0. 1. 0. 0. 1. 0.]]\n"
          ]
        }
      ],
      "source": [
        "import numpy as np\n",
        "\n",
        "def generate_instance(num_vertices, max_coord):\n",
        "    # Gerar coordenadas aleatórias para os vértices\n",
        "    vertices = np.random.randint(max_coord, size=(num_vertices, 2))\n",
        "    \n",
        "    # Criar matriz de adjacência inicialmente vazia\n",
        "    adjacency_matrix = np.zeros((num_vertices, num_vertices))\n",
        "    \n",
        "    # Preencher a matriz de adjacência com arestas aleatórias\n",
        "    for i in range(num_vertices):\n",
        "        for j in range(i+1, num_vertices):\n",
        "            # Determinar se há uma aresta entre os vértices i e j com uma probabilidade de 50%\n",
        "            if np.random.random() < 0.5:\n",
        "                adjacency_matrix[i, j] = 1\n",
        "                adjacency_matrix[j, i] = 1\n",
        "    \n",
        "    return vertices, adjacency_matrix\n",
        "\n",
        "# Exemplo de uso:\n",
        "num_vertices = 6  # Número de vértices\n",
        "max_coord = 10    # Máxima coordenada para os vértices\n",
        "\n",
        "vertices, adjacency_matrix = generate_instance(num_vertices, max_coord)\n",
        "\n",
        "print(\"Coordenadas dos vértices:\")\n",
        "print(vertices)\n",
        "print(\"\\nMatriz de adjacência:\")\n",
        "print(adjacency_matrix)\n"
      ]
    },
    {
      "cell_type": "code",
      "execution_count": 8,
      "metadata": {
        "trusted": true
      },
      "outputs": [
        {
          "name": "stdout",
          "output_type": "stream",
          "text": [
            "Coordenadas dos vértices:\n",
            "[[7 2]\n",
            " [9 5]\n",
            " [9 5]\n",
            " [3 0]\n",
            " [3 6]\n",
            " [9 8]]\n",
            "\n",
            "Matriz de adjacência:\n",
            "[[0. 0. 1. 0. 0. 1.]\n",
            " [0. 0. 0. 1. 0. 0.]\n",
            " [1. 0. 0. 1. 0. 1.]\n",
            " [0. 1. 1. 0. 1. 1.]\n",
            " [0. 0. 0. 1. 0. 1.]\n",
            " [1. 0. 1. 1. 1. 0.]]\n",
            "\n",
            "Melhor solução encontrada:\n",
            "[4 2 0 5 3 1]\n",
            "Custo da melhor solução: 16.0\n"
          ]
        }
      ],
      "source": [
        "# deixar a heuristica de construcao inicial mais gulosa, para que a busca seja mais otimizada\n",
        "# construir uma lista de arestas que possuem cruzamentos, e desfazer os cruzamentos que possuem mais cruzamentos\n",
        "# trabalhar no GRASP com uma porcentagem dos 30% melhores, restringindo o tamanho da lista, testando posteriormente o alpha de aleatoriedade\n",
        "\n",
        "\n",
        "def generate_instance(num_vertices, max_coord):\n",
        "    # Gerar coordenadas aleatórias para os vértices\n",
        "    vertices = np.random.randint(max_coord, size=(num_vertices, 2))\n",
        "    \n",
        "    # Criar matriz de adjacência inicialmente vazia\n",
        "    adjacency_matrix = np.zeros((num_vertices, num_vertices))\n",
        "    \n",
        "    # Preencher a matriz de adjacência com arestas aleatórias\n",
        "    for i in range(num_vertices):\n",
        "        for j in range(i+1, num_vertices):\n",
        "            # Determinar se há uma aresta entre os vértices i e j com uma probabilidade de 50%\n",
        "            if np.random.random() < 0.5:\n",
        "                adjacency_matrix[i, j] = 1\n",
        "                adjacency_matrix[j, i] = 1\n",
        "    \n",
        "    return vertices, adjacency_matrix\n",
        "\n",
        "def generate_random_solution(num_vertices):\n",
        "    # Gerar uma solução aleatória\n",
        "    return np.random.permutation(num_vertices)\n",
        "\n",
        "def local_search(solution, adjacency_matrix):\n",
        "    # Um procedimento de melhoria local simples: troca aleatória de dois vértices\n",
        "    new_solution = solution.copy()\n",
        "    idx1, idx2 = np.random.choice(len(solution), 2, replace=False)\n",
        "    new_solution[idx1], new_solution[idx2] = new_solution[idx2], new_solution[idx1]\n",
        "    return new_solution\n",
        "\n",
        "def evaluate_solution(solution, adjacency_matrix):\n",
        "    # Avaliar a solução calculando o custo total (nesse caso, o número de arestas na solução)\n",
        "    total_edges = sum(adjacency_matrix[i, j] for i in solution for j in solution if i != j)\n",
        "    return total_edges\n",
        "\n",
        "def grasp(num_vertices, max_coord, num_iterations):\n",
        "    best_solution = None\n",
        "    best_solution_cost = float('inf')\n",
        "    \n",
        "    for _ in range(num_iterations):\n",
        "        # Gerar uma solução inicial aleatória\n",
        "        initial_solution = generate_random_solution(num_vertices)\n",
        "        \n",
        "        # Realizar a busca local na solução inicial\n",
        "        improved_solution = local_search(initial_solution, adjacency_matrix)\n",
        "        \n",
        "        # Avaliar a solução melhorada\n",
        "        solution_cost = evaluate_solution(improved_solution, adjacency_matrix)\n",
        "        \n",
        "        # Atualizar a melhor solução encontrada, se necessário\n",
        "        if solution_cost < best_solution_cost:\n",
        "            best_solution = improved_solution\n",
        "            best_solution_cost = solution_cost\n",
        "    \n",
        "    return best_solution, best_solution_cost\n",
        "\n",
        "# Exemplo de uso:\n",
        "num_vertices = 6  # Número de vértices\n",
        "max_coord = 10    # Máxima coordenada para os vértices\n",
        "num_iterations = 10  # Número de iterações GRASP\n",
        "\n",
        "vertices, adjacency_matrix = generate_instance(num_vertices, max_coord)\n",
        "best_solution, best_solution_cost = grasp(num_vertices, max_coord, num_iterations)\n",
        "\n",
        "print(\"Coordenadas dos vértices:\")\n",
        "print(vertices)\n",
        "print(\"\\nMatriz de adjacência:\")\n",
        "print(adjacency_matrix)\n",
        "print(\"\\nMelhor solução encontrada:\")\n",
        "print(best_solution)\n",
        "print(\"Custo da melhor solução:\", best_solution_cost)\n"
      ]
    },
    {
      "cell_type": "code",
      "execution_count": null,
      "metadata": {
        "trusted": true
      },
      "outputs": [],
      "source": []
    }
  ],
  "metadata": {
    "kernelspec": {
      "display_name": "Python 3",
      "language": "python",
      "name": "python3"
    },
    "language_info": {
      "codemirror_mode": {
        "name": "ipython",
        "version": 3
      },
      "file_extension": ".py",
      "mimetype": "text/x-python",
      "name": "python",
      "nbconvert_exporter": "python",
      "pygments_lexer": "ipython3",
      "version": "3.10.12"
    }
  },
  "nbformat": 4,
  "nbformat_minor": 4
}
